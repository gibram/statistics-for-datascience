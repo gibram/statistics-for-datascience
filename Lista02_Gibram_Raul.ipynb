{
 "cells": [
  {
   "cell_type": "code",
   "execution_count": 1,
   "metadata": {},
   "outputs": [],
   "source": [
    "## Fundamentos Estatísticos para Ciência de Dados\n",
    "## Gibram Raul Campos de Oliveira\n",
    "## Lista 02 de Exercícios"
   ]
  },
  {
   "cell_type": "markdown",
   "metadata": {},
   "source": [
    "Lista 02 de FECD\n",
    "\n",
    "Criar um notebook python (ou um arquivo .py) que refaça os gráficos e cálculos básicos feitos usando o R nos slides da aula de visualização e estatísticas básicas. Mostrar apenas os comandos, não precisa salvar os gráficos. \n",
    "\n",
    "Vamos usar os dados de pressão sanguínea (sistólica) no arquivo BloodPressure01.txt (na webpage do curso. Os dados foram extraídos desse site (se ainda existir):\n",
    "http://www.math.yorku.ca/Who/Faculty/Ng/ssc2003/BPMain.htm\n",
    "\n",
    "Vamos também usar os dados de população por município (arquivo na webpage da disciplina)\n",
    "\n",
    "\n",
    "Mais especificamente, fazer o seguinte: \n",
    "- Usando pandas, ler os dados do arquivo BloodPressure01.txt \n",
    "- reproduzir os comandos do slide 10 de T01-RDados.pdf\n",
    "- histograma básico do slide 13\n",
    "- gráficos do slide 15\n",
    "\n",
    "- Usando pandas, ler os dados de população por município: arquivo POP2006.csv\n",
    "- Refazer os histogramas dos slides 17 e 18\n",
    "\n",
    "- Usando pandas, ler os dados de futebol do arquivo CampeonatoBrasileiro2014.txt\n",
    "- Refazer os stem-and-leaf (ramo-e-folhas) dos slides 21 e 22\n",
    "https://www.geeksforgeeks.org/stem-and-leaf-plots-in-python/  \n",
    "\n",
    "- Com os dados do arquivo de pressão sistólica, refazer o box-plot simples do slide 23\n",
    "- Refazer slides 28, 29, 30, 33\n",
    "\n",
    "- Usando os dados do arquivo mtcars.csv, fazer uma matriz de scatterplots como no slide 38. Ver a descrição das variáveis (que eu já não me lembrava em sala de aula) aqui:\n",
    "https://rpubs.com/neros/61800\n",
    "\n",
    "\n",
    "\n",
    "\n"
   ]
  },
  {
   "cell_type": "code",
   "execution_count": 20,
   "metadata": {},
   "outputs": [],
   "source": [
    "import pandas as pd\n",
    "import numpy as np"
   ]
  },
  {
   "cell_type": "markdown",
   "metadata": {},
   "source": [
    "### Lendo os dados do arquivo BloodPressure01.txt"
   ]
  },
  {
   "cell_type": "code",
   "execution_count": 78,
   "metadata": {},
   "outputs": [],
   "source": [
    "nome_arquivo = \"BloodPressure01.txt\"\n",
    "pressao =  pd.read_csv(nome_arquivo)"
   ]
  },
  {
   "cell_type": "code",
   "execution_count": 79,
   "metadata": {},
   "outputs": [
    {
     "data": {
      "text/html": [
       "<div>\n",
       "<style scoped>\n",
       "    .dataframe tbody tr th:only-of-type {\n",
       "        vertical-align: middle;\n",
       "    }\n",
       "\n",
       "    .dataframe tbody tr th {\n",
       "        vertical-align: top;\n",
       "    }\n",
       "\n",
       "    .dataframe thead th {\n",
       "        text-align: right;\n",
       "    }\n",
       "</style>\n",
       "<table border=\"1\" class=\"dataframe\">\n",
       "  <thead>\n",
       "    <tr style=\"text-align: right;\">\n",
       "      <th></th>\n",
       "      <th>sbp</th>\n",
       "      <th>gender</th>\n",
       "      <th>married</th>\n",
       "      <th>smoke</th>\n",
       "      <th>exercise</th>\n",
       "      <th>age</th>\n",
       "      <th>weight</th>\n",
       "      <th>height</th>\n",
       "      <th>overwt</th>\n",
       "      <th>race</th>\n",
       "      <th>...</th>\n",
       "      <th>g474</th>\n",
       "      <th>g475</th>\n",
       "      <th>g476</th>\n",
       "      <th>g477</th>\n",
       "      <th>g478</th>\n",
       "      <th>g479</th>\n",
       "      <th>g480</th>\n",
       "      <th>g481</th>\n",
       "      <th>g482</th>\n",
       "      <th>g483</th>\n",
       "    </tr>\n",
       "  </thead>\n",
       "  <tbody>\n",
       "    <tr>\n",
       "      <td>0</td>\n",
       "      <td>133</td>\n",
       "      <td>F</td>\n",
       "      <td>N</td>\n",
       "      <td>N</td>\n",
       "      <td>3</td>\n",
       "      <td>60</td>\n",
       "      <td>159</td>\n",
       "      <td>56</td>\n",
       "      <td>3</td>\n",
       "      <td>1</td>\n",
       "      <td>...</td>\n",
       "      <td>0_0</td>\n",
       "      <td>0_0</td>\n",
       "      <td>0_1</td>\n",
       "      <td>0_1</td>\n",
       "      <td>0_1</td>\n",
       "      <td>1_1</td>\n",
       "      <td>0_0</td>\n",
       "      <td>0_0</td>\n",
       "      <td>0_1</td>\n",
       "      <td>0_1</td>\n",
       "    </tr>\n",
       "    <tr>\n",
       "      <td>1</td>\n",
       "      <td>115</td>\n",
       "      <td>M</td>\n",
       "      <td>N</td>\n",
       "      <td>Y</td>\n",
       "      <td>1</td>\n",
       "      <td>55</td>\n",
       "      <td>107</td>\n",
       "      <td>65</td>\n",
       "      <td>1</td>\n",
       "      <td>1</td>\n",
       "      <td>...</td>\n",
       "      <td>0_1</td>\n",
       "      <td>0_1</td>\n",
       "      <td>0_0</td>\n",
       "      <td>1_1</td>\n",
       "      <td>0_0</td>\n",
       "      <td>1_1</td>\n",
       "      <td>0_0</td>\n",
       "      <td>0_0</td>\n",
       "      <td>1_1</td>\n",
       "      <td>0_1</td>\n",
       "    </tr>\n",
       "    <tr>\n",
       "      <td>2</td>\n",
       "      <td>140</td>\n",
       "      <td>M</td>\n",
       "      <td>N</td>\n",
       "      <td>Y</td>\n",
       "      <td>1</td>\n",
       "      <td>18</td>\n",
       "      <td>130</td>\n",
       "      <td>59</td>\n",
       "      <td>2</td>\n",
       "      <td>1</td>\n",
       "      <td>...</td>\n",
       "      <td>0_0</td>\n",
       "      <td>0_1</td>\n",
       "      <td>0_1</td>\n",
       "      <td>0_1</td>\n",
       "      <td>0_1</td>\n",
       "      <td>0_1</td>\n",
       "      <td>0_0</td>\n",
       "      <td>0_0</td>\n",
       "      <td>1_1</td>\n",
       "      <td>0_1</td>\n",
       "    </tr>\n",
       "    <tr>\n",
       "      <td>3</td>\n",
       "      <td>132</td>\n",
       "      <td>M</td>\n",
       "      <td>Y</td>\n",
       "      <td>N</td>\n",
       "      <td>2</td>\n",
       "      <td>19</td>\n",
       "      <td>230</td>\n",
       "      <td>57</td>\n",
       "      <td>3</td>\n",
       "      <td>2</td>\n",
       "      <td>...</td>\n",
       "      <td>0_0</td>\n",
       "      <td>0_0</td>\n",
       "      <td>1_1</td>\n",
       "      <td>0_0</td>\n",
       "      <td>1_1</td>\n",
       "      <td>0_1</td>\n",
       "      <td>1_1</td>\n",
       "      <td>0_1</td>\n",
       "      <td>1_1</td>\n",
       "      <td>0_1</td>\n",
       "    </tr>\n",
       "    <tr>\n",
       "      <td>4</td>\n",
       "      <td>133</td>\n",
       "      <td>M</td>\n",
       "      <td>N</td>\n",
       "      <td>N</td>\n",
       "      <td>2</td>\n",
       "      <td>58</td>\n",
       "      <td>201</td>\n",
       "      <td>74</td>\n",
       "      <td>2</td>\n",
       "      <td>1</td>\n",
       "      <td>...</td>\n",
       "      <td>0_0</td>\n",
       "      <td>0_0</td>\n",
       "      <td>0_0</td>\n",
       "      <td>0_0</td>\n",
       "      <td>1_1</td>\n",
       "      <td>1_1</td>\n",
       "      <td>0_0</td>\n",
       "      <td>0_1</td>\n",
       "      <td>0_1</td>\n",
       "      <td>0_0</td>\n",
       "    </tr>\n",
       "  </tbody>\n",
       "</table>\n",
       "<p>5 rows × 501 columns</p>\n",
       "</div>"
      ],
      "text/plain": [
       "   sbp gender married smoke  exercise  age  weight  height  overwt  race  ...  \\\n",
       "0  133      F       N     N         3   60     159      56       3     1  ...   \n",
       "1  115      M       N     Y         1   55     107      65       1     1  ...   \n",
       "2  140      M       N     Y         1   18     130      59       2     1  ...   \n",
       "3  132      M       Y     N         2   19     230      57       3     2  ...   \n",
       "4  133      M       N     N         2   58     201      74       2     1  ...   \n",
       "\n",
       "   g474  g475  g476  g477  g478  g479  g480  g481 g482 g483  \n",
       "0   0_0   0_0   0_1   0_1   0_1   1_1   0_0   0_0  0_1  0_1  \n",
       "1   0_1   0_1   0_0   1_1   0_0   1_1   0_0   0_0  1_1  0_1  \n",
       "2   0_0   0_1   0_1   0_1   0_1   0_1   0_0   0_0  1_1  0_1  \n",
       "3   0_0   0_0   1_1   0_0   1_1   0_1   1_1   0_1  1_1  0_1  \n",
       "4   0_0   0_0   0_0   0_0   1_1   1_1   0_0   0_1  0_1  0_0  \n",
       "\n",
       "[5 rows x 501 columns]"
      ]
     },
     "execution_count": 79,
     "metadata": {},
     "output_type": "execute_result"
    }
   ],
   "source": [
    "pressao.head()"
   ]
  },
  {
   "cell_type": "markdown",
   "metadata": {},
   "source": [
    "### Reproduzindo os comandos do slide 10 de T01-RDados.pdf"
   ]
  },
  {
   "cell_type": "code",
   "execution_count": 80,
   "metadata": {},
   "outputs": [
    {
     "data": {
      "text/plain": [
       "(500, 501)"
      ]
     },
     "execution_count": 80,
     "metadata": {},
     "output_type": "execute_result"
    }
   ],
   "source": [
    "pressao.shape"
   ]
  },
  {
   "cell_type": "code",
   "execution_count": 81,
   "metadata": {},
   "outputs": [
    {
     "data": {
      "text/html": [
       "<div>\n",
       "<style scoped>\n",
       "    .dataframe tbody tr th:only-of-type {\n",
       "        vertical-align: middle;\n",
       "    }\n",
       "\n",
       "    .dataframe tbody tr th {\n",
       "        vertical-align: top;\n",
       "    }\n",
       "\n",
       "    .dataframe thead th {\n",
       "        text-align: right;\n",
       "    }\n",
       "</style>\n",
       "<table border=\"1\" class=\"dataframe\">\n",
       "  <thead>\n",
       "    <tr style=\"text-align: right;\">\n",
       "      <th></th>\n",
       "      <th>sbp</th>\n",
       "      <th>gender</th>\n",
       "      <th>married</th>\n",
       "      <th>smoke</th>\n",
       "      <th>exercise</th>\n",
       "      <th>age</th>\n",
       "      <th>weight</th>\n",
       "      <th>height</th>\n",
       "      <th>overwt</th>\n",
       "      <th>race</th>\n",
       "      <th>alcohol</th>\n",
       "      <th>trt</th>\n",
       "      <th>bmi</th>\n",
       "      <th>stress</th>\n",
       "      <th>salt</th>\n",
       "      <th>chldbear</th>\n",
       "      <th>income</th>\n",
       "      <th>educatn</th>\n",
       "    </tr>\n",
       "  </thead>\n",
       "  <tbody>\n",
       "    <tr>\n",
       "      <td>0</td>\n",
       "      <td>133</td>\n",
       "      <td>F</td>\n",
       "      <td>N</td>\n",
       "      <td>N</td>\n",
       "      <td>3</td>\n",
       "      <td>60</td>\n",
       "      <td>159</td>\n",
       "      <td>56</td>\n",
       "      <td>3</td>\n",
       "      <td>1</td>\n",
       "      <td>2</td>\n",
       "      <td>0</td>\n",
       "      <td>35</td>\n",
       "      <td>2</td>\n",
       "      <td>2</td>\n",
       "      <td>2</td>\n",
       "      <td>2</td>\n",
       "      <td>2</td>\n",
       "    </tr>\n",
       "    <tr>\n",
       "      <td>1</td>\n",
       "      <td>115</td>\n",
       "      <td>M</td>\n",
       "      <td>N</td>\n",
       "      <td>Y</td>\n",
       "      <td>1</td>\n",
       "      <td>55</td>\n",
       "      <td>107</td>\n",
       "      <td>65</td>\n",
       "      <td>1</td>\n",
       "      <td>1</td>\n",
       "      <td>2</td>\n",
       "      <td>0</td>\n",
       "      <td>17</td>\n",
       "      <td>2</td>\n",
       "      <td>2</td>\n",
       "      <td>1</td>\n",
       "      <td>3</td>\n",
       "      <td>2</td>\n",
       "    </tr>\n",
       "    <tr>\n",
       "      <td>2</td>\n",
       "      <td>140</td>\n",
       "      <td>M</td>\n",
       "      <td>N</td>\n",
       "      <td>Y</td>\n",
       "      <td>1</td>\n",
       "      <td>18</td>\n",
       "      <td>130</td>\n",
       "      <td>59</td>\n",
       "      <td>2</td>\n",
       "      <td>1</td>\n",
       "      <td>1</td>\n",
       "      <td>0</td>\n",
       "      <td>26</td>\n",
       "      <td>3</td>\n",
       "      <td>2</td>\n",
       "      <td>1</td>\n",
       "      <td>1</td>\n",
       "      <td>3</td>\n",
       "    </tr>\n",
       "    <tr>\n",
       "      <td>3</td>\n",
       "      <td>132</td>\n",
       "      <td>M</td>\n",
       "      <td>Y</td>\n",
       "      <td>N</td>\n",
       "      <td>2</td>\n",
       "      <td>19</td>\n",
       "      <td>230</td>\n",
       "      <td>57</td>\n",
       "      <td>3</td>\n",
       "      <td>2</td>\n",
       "      <td>3</td>\n",
       "      <td>1</td>\n",
       "      <td>49</td>\n",
       "      <td>3</td>\n",
       "      <td>3</td>\n",
       "      <td>1</td>\n",
       "      <td>1</td>\n",
       "      <td>2</td>\n",
       "    </tr>\n",
       "    <tr>\n",
       "      <td>4</td>\n",
       "      <td>133</td>\n",
       "      <td>M</td>\n",
       "      <td>N</td>\n",
       "      <td>N</td>\n",
       "      <td>2</td>\n",
       "      <td>58</td>\n",
       "      <td>201</td>\n",
       "      <td>74</td>\n",
       "      <td>2</td>\n",
       "      <td>1</td>\n",
       "      <td>3</td>\n",
       "      <td>0</td>\n",
       "      <td>25</td>\n",
       "      <td>2</td>\n",
       "      <td>2</td>\n",
       "      <td>1</td>\n",
       "      <td>2</td>\n",
       "      <td>3</td>\n",
       "    </tr>\n",
       "  </tbody>\n",
       "</table>\n",
       "</div>"
      ],
      "text/plain": [
       "   sbp gender married smoke  exercise  age  weight  height  overwt  race  \\\n",
       "0  133      F       N     N         3   60     159      56       3     1   \n",
       "1  115      M       N     Y         1   55     107      65       1     1   \n",
       "2  140      M       N     Y         1   18     130      59       2     1   \n",
       "3  132      M       Y     N         2   19     230      57       3     2   \n",
       "4  133      M       N     N         2   58     201      74       2     1   \n",
       "\n",
       "   alcohol  trt  bmi  stress  salt  chldbear  income  educatn  \n",
       "0        2    0   35       2     2         2       2        2  \n",
       "1        2    0   17       2     2         1       3        2  \n",
       "2        1    0   26       3     2         1       1        3  \n",
       "3        3    1   49       3     3         1       1        2  \n",
       "4        3    0   25       2     2         1       2        3  "
      ]
     },
     "execution_count": 81,
     "metadata": {},
     "output_type": "execute_result"
    }
   ],
   "source": [
    "pressao = pressao[pressao.columns[0:18]]\n",
    "pressao.head()"
   ]
  },
  {
   "cell_type": "code",
   "execution_count": 82,
   "metadata": {},
   "outputs": [
    {
     "data": {
      "text/plain": [
       "Index(['sbp', 'gender', 'married', 'smoke', 'exercise', 'age', 'weight',\n",
       "       'height', 'overwt', 'race', 'alcohol', 'trt', 'bmi', 'stress', 'salt',\n",
       "       'chldbear', 'income', 'educatn'],\n",
       "      dtype='object')"
      ]
     },
     "execution_count": 82,
     "metadata": {},
     "output_type": "execute_result"
    }
   ],
   "source": [
    "pressao.columns"
   ]
  },
  {
   "cell_type": "markdown",
   "metadata": {},
   "source": [
    "### Histograma básico do slide 13"
   ]
  },
  {
   "cell_type": "code",
   "execution_count": 148,
   "metadata": {},
   "outputs": [],
   "source": [
    "%matplotlib inline\n",
    "import numpy as np\n",
    "import seaborn as sns\n",
    "import matplotlib.pyplot as plt\n",
    "#plt.style.use('seaborn-white')\n",
    "sns.set(color_codes=True)"
   ]
  },
  {
   "cell_type": "code",
   "execution_count": 149,
   "metadata": {},
   "outputs": [
    {
     "data": {
      "image/png": "[encoded data removed]",
      "text/plain": [
       "<Figure size 432x288 with 1 Axes>"
      ]
     },
     "metadata": {},
     "output_type": "display_data"
    }
   ],
   "source": [
    "#plt.hist(pressao[\"sbp\"]);\n",
    "sns.distplot(pressao[\"sbp\"], bins=8, kde=False, rug=False);"
   ]
  },
  {
   "cell_type": "markdown",
   "metadata": {},
   "source": [
    "### Gráficos do slide 15"
   ]
  },
  {
   "cell_type": "code",
   "execution_count": 153,
   "metadata": {},
   "outputs": [
    {
     "data": {
      "image/png": "[encoded data removed]",
      "text/plain": [
       "<Figure size 432x288 with 4 Axes>"
      ]
     },
     "metadata": {},
     "output_type": "display_data"
    }
   ],
   "source": [
    "fig = plt.figure()\n",
    "\n",
    "plt.subplots_adjust(wspace=0.8, hspace=0.8)\n",
    "\n",
    "\n",
    "\n",
    "plt.subplot(2, 2, 1)\n",
    "plt.title('Histogram of sbp')\n",
    "plt.ylabel('Frequency')\n",
    "plt.xlabel('sbp')\n",
    "#plt.hist(pressao[\"sbp\"]);\n",
    "sns.distplot(pressao[\"sbp\"], bins=8, kde=False, rug=False);\n",
    "\n",
    "\n",
    "\n",
    "plt.subplot(2, 2, 2)\n",
    "plt.title('Histogram of sbp')\n",
    "plt.ylabel('Density')\n",
    "plt.xlabel('sbp')\n",
    "plt.hist(pressao[\"sbp\"], density=True);\n",
    "\n",
    "\n",
    "plt.subplot(2, 2, 3)\n",
    "plt.title('PS')\n",
    "plt.ylabel('Density')\n",
    "plt.xlabel('sbp')\n",
    "plt.hist(pressao[\"sbp\"], density=True, bins=[50, 130, 160, 200, max(pressao[\"sbp\"])]);\n",
    "\n",
    "\n",
    "plt.subplot(2, 2, 4)\n",
    "plt.title('Pressão Sistólica')\n",
    "plt.ylabel('Density')\n",
    "plt.xlabel('pressao')\n",
    "#plt.hist(pressao[\"sbp\"], density=True);\n",
    "\n",
    "sns.distplot(pressao[\"sbp\"], kde=False, rug=True);\n",
    "\n",
    "plt.show()"
   ]
  },
  {
   "cell_type": "markdown",
   "metadata": {},
   "source": [
    "### Lendo os dados de população por município: arquivo POP2006.csv"
   ]
  },
  {
   "cell_type": "code",
   "execution_count": 161,
   "metadata": {},
   "outputs": [],
   "source": [
    "nome_arquivo = \"POP2006.csv\"\n",
    "pop = pd.read_csv(nome_arquivo, encoding='latin-1')"
   ]
  },
  {
   "cell_type": "code",
   "execution_count": 162,
   "metadata": {},
   "outputs": [
    {
     "data": {
      "text/html": [
       "<div>\n",
       "<style scoped>\n",
       "    .dataframe tbody tr th:only-of-type {\n",
       "        vertical-align: middle;\n",
       "    }\n",
       "\n",
       "    .dataframe tbody tr th {\n",
       "        vertical-align: top;\n",
       "    }\n",
       "\n",
       "    .dataframe thead th {\n",
       "        text-align: right;\n",
       "    }\n",
       "</style>\n",
       "<table border=\"1\" class=\"dataframe\">\n",
       "  <thead>\n",
       "    <tr style=\"text-align: right;\">\n",
       "      <th></th>\n",
       "      <th>ESTADO</th>\n",
       "      <th>MUNICIPIO</th>\n",
       "      <th>POP2006</th>\n",
       "    </tr>\n",
       "  </thead>\n",
       "  <tbody>\n",
       "    <tr>\n",
       "      <td>0</td>\n",
       "      <td>RO</td>\n",
       "      <td>Alta Floresta D'Oeste</td>\n",
       "      <td>29005</td>\n",
       "    </tr>\n",
       "    <tr>\n",
       "      <td>1</td>\n",
       "      <td>RO</td>\n",
       "      <td>Alto Alegre dos Parecis</td>\n",
       "      <td>15454</td>\n",
       "    </tr>\n",
       "    <tr>\n",
       "      <td>2</td>\n",
       "      <td>RO</td>\n",
       "      <td>Alto Paraíso</td>\n",
       "      <td>16510</td>\n",
       "    </tr>\n",
       "    <tr>\n",
       "      <td>3</td>\n",
       "      <td>RO</td>\n",
       "      <td>Alvorada D'Oeste</td>\n",
       "      <td>19542</td>\n",
       "    </tr>\n",
       "    <tr>\n",
       "      <td>4</td>\n",
       "      <td>RO</td>\n",
       "      <td>Ariquemes</td>\n",
       "      <td>86924</td>\n",
       "    </tr>\n",
       "  </tbody>\n",
       "</table>\n",
       "</div>"
      ],
      "text/plain": [
       "  ESTADO                MUNICIPIO  POP2006\n",
       "0     RO    Alta Floresta D'Oeste    29005\n",
       "1     RO  Alto Alegre dos Parecis    15454\n",
       "2     RO             Alto Paraíso    16510\n",
       "3     RO         Alvorada D'Oeste    19542\n",
       "4     RO                Ariquemes    86924"
      ]
     },
     "execution_count": 162,
     "metadata": {},
     "output_type": "execute_result"
    }
   ],
   "source": [
    "pop.head()"
   ]
  },
  {
   "cell_type": "markdown",
   "metadata": {},
   "source": [
    "### Refazendo os histogramas dos slides 17 e 18"
   ]
  },
  {
   "cell_type": "code",
   "execution_count": 180,
   "metadata": {},
   "outputs": [
    {
     "data": {
      "image/png": "[encoded data removed]",
      "text/plain": [
       "<Figure size 432x288 with 4 Axes>"
      ]
     },
     "metadata": {},
     "output_type": "display_data"
    }
   ],
   "source": [
    "fig = plt.figure()\n",
    "\n",
    "plt.subplots_adjust(wspace=0.8, hspace=0.8)\n",
    "\n",
    "plt.subplot(2, 2, 1)\n",
    "plt.title('População municipal em 2006')\n",
    "sns.distplot(pop[\"POP2006\"], bins=10, kde=False);\n",
    "\n",
    "plt.subplot(2, 2, 2)\n",
    "plt.title('Pop < 1 milhão')\n",
    "sns.distplot(pop.loc[pop[\"POP2006\"]<1000000].POP2006, bins=10, kde=False);\n",
    "\n",
    "plt.subplot(2, 2, 3)\n",
    "plt.title('Pop < 500 mil')\n",
    "sns.distplot(pop.loc[pop[\"POP2006\"]<500000].POP2006, bins=10, kde=False);\n",
    "\n",
    "\n",
    "plt.subplot(2, 2, 4)\n",
    "plt.title('Pop < 100 mil')\n",
    "sns.distplot(pop.loc[pop[\"POP2006\"]<100000].POP2006, bins=10, kde=False);\n",
    "\n",
    "plt.show()"
   ]
  },
  {
   "cell_type": "code",
   "execution_count": 198,
   "metadata": {},
   "outputs": [
    {
     "data": {
      "image/png": "[encoded data removed]",
      "text/plain": [
       "<Figure size 432x288 with 1 Axes>"
      ]
     },
     "metadata": {},
     "output_type": "display_data"
    }
   ],
   "source": [
    "# Escala Log10\n",
    "plt.hist(np.log10(pop[\"POP2006\"]), bins=7);"
   ]
  },
  {
   "cell_type": "markdown",
   "metadata": {},
   "source": [
    "###  Lendo os dados de futebol do arquivo CampeonatoBrasileiro2014.txt"
   ]
  },
  {
   "cell_type": "code",
   "execution_count": 204,
   "metadata": {},
   "outputs": [],
   "source": [
    "nome_arquivo = \"CampeonatoBrasileiro2014.txt\"\n",
    "fut = pd.read_csv(nome_arquivo)"
   ]
  },
  {
   "cell_type": "code",
   "execution_count": 205,
   "metadata": {},
   "outputs": [
    {
     "data": {
      "text/html": [
       "<div>\n",
       "<style scoped>\n",
       "    .dataframe tbody tr th:only-of-type {\n",
       "        vertical-align: middle;\n",
       "    }\n",
       "\n",
       "    .dataframe tbody tr th {\n",
       "        vertical-align: top;\n",
       "    }\n",
       "\n",
       "    .dataframe thead th {\n",
       "        text-align: right;\n",
       "    }\n",
       "</style>\n",
       "<table border=\"1\" class=\"dataframe\">\n",
       "  <thead>\n",
       "    <tr style=\"text-align: right;\">\n",
       "      <th></th>\n",
       "      <th>Time</th>\n",
       "      <th>\\tPts</th>\n",
       "      <th>\\tJogos</th>\n",
       "      <th>\\tVit</th>\n",
       "      <th>\\tEmp</th>\n",
       "      <th>\\tDer</th>\n",
       "      <th>\\tGols</th>\n",
       "      <th>\\tGolsSofr</th>\n",
       "      <th>\\tSaldoGols</th>\n",
       "      <th>\\tAprov</th>\n",
       "    </tr>\n",
       "  </thead>\n",
       "  <tbody>\n",
       "    <tr>\n",
       "      <td>0</td>\n",
       "      <td>Cruzeiro</td>\n",
       "      <td>80</td>\n",
       "      <td>38</td>\n",
       "      <td>24</td>\n",
       "      <td>8</td>\n",
       "      <td>6</td>\n",
       "      <td>67</td>\n",
       "      <td>38</td>\n",
       "      <td>29</td>\n",
       "      <td>70</td>\n",
       "    </tr>\n",
       "    <tr>\n",
       "      <td>1</td>\n",
       "      <td>Sao Paulo</td>\n",
       "      <td>70</td>\n",
       "      <td>38</td>\n",
       "      <td>20</td>\n",
       "      <td>10</td>\n",
       "      <td>8</td>\n",
       "      <td>59</td>\n",
       "      <td>40</td>\n",
       "      <td>19</td>\n",
       "      <td>61</td>\n",
       "    </tr>\n",
       "    <tr>\n",
       "      <td>2</td>\n",
       "      <td>Internacional</td>\n",
       "      <td>69</td>\n",
       "      <td>38</td>\n",
       "      <td>21</td>\n",
       "      <td>6</td>\n",
       "      <td>11</td>\n",
       "      <td>53</td>\n",
       "      <td>41</td>\n",
       "      <td>12</td>\n",
       "      <td>60</td>\n",
       "    </tr>\n",
       "    <tr>\n",
       "      <td>3</td>\n",
       "      <td>Corinthians</td>\n",
       "      <td>69</td>\n",
       "      <td>38</td>\n",
       "      <td>19</td>\n",
       "      <td>12</td>\n",
       "      <td>7</td>\n",
       "      <td>49</td>\n",
       "      <td>31</td>\n",
       "      <td>18</td>\n",
       "      <td>60</td>\n",
       "    </tr>\n",
       "    <tr>\n",
       "      <td>4</td>\n",
       "      <td>Atletico Mineiro</td>\n",
       "      <td>62</td>\n",
       "      <td>38</td>\n",
       "      <td>17</td>\n",
       "      <td>11</td>\n",
       "      <td>10</td>\n",
       "      <td>51</td>\n",
       "      <td>38</td>\n",
       "      <td>13</td>\n",
       "      <td>54</td>\n",
       "    </tr>\n",
       "  </tbody>\n",
       "</table>\n",
       "</div>"
      ],
      "text/plain": [
       "               Time  \\tPts  \\tJogos  \\tVit  \\tEmp  \\tDer  \\tGols  \\tGolsSofr  \\\n",
       "0          Cruzeiro     80       38     24      8      6      67          38   \n",
       "1         Sao Paulo     70       38     20     10      8      59          40   \n",
       "2     Internacional     69       38     21      6     11      53          41   \n",
       "3       Corinthians     69       38     19     12      7      49          31   \n",
       "4  Atletico Mineiro     62       38     17     11     10      51          38   \n",
       "\n",
       "   \\tSaldoGols  \\tAprov  \n",
       "0           29       70  \n",
       "1           19       61  \n",
       "2           12       60  \n",
       "3           18       60  \n",
       "4           13       54  "
      ]
     },
     "execution_count": 205,
     "metadata": {},
     "output_type": "execute_result"
    }
   ],
   "source": [
    "fut.head()"
   ]
  },
  {
   "cell_type": "markdown",
   "metadata": {},
   "source": [
    "### Refazendo os stem-and-leaf (ramo-e-folhas) dos slides 21 e 22"
   ]
  },
  {
   "cell_type": "code",
   "execution_count": 210,
   "metadata": {},
   "outputs": [],
   "source": [
    "import stemgraphic "
   ]
  },
  {
   "cell_type": "code",
   "execution_count": 214,
   "metadata": {},
   "outputs": [
    {
     "data": {
      "text/plain": [
       "(<Figure size 540x234 with 1 Axes>,\n",
       " <matplotlib.axes._axes.Axes at 0x124d99048>)"
      ]
     },
     "execution_count": 214,
     "metadata": {},
     "output_type": "execute_result"
    },
    {
     "data": {
      "image/png": "[encoded data removed]",
      "text/plain": [
       "<Figure size 540x234 with 1 Axes>"
      ]
     },
     "metadata": {},
     "output_type": "display_data"
    }
   ],
   "source": [
    "stemgraphic.stem_graphic(fut[\"\\tGols\"], scale = 10) "
   ]
  },
  {
   "cell_type": "code",
   "execution_count": 212,
   "metadata": {},
   "outputs": [
    {
     "data": {
      "text/plain": [
       "(<Figure size 540x162 with 1 Axes>,\n",
       " <matplotlib.axes._axes.Axes at 0x124a497f0>)"
      ]
     },
     "execution_count": 212,
     "metadata": {},
     "output_type": "execute_result"
    },
    {
     "data": {
      "image/png": "[encoded data removed]",
      "text/plain": [
       "<Figure size 540x162 with 1 Axes>"
      ]
     },
     "metadata": {},
     "output_type": "display_data"
    }
   ],
   "source": [
    "stemgraphic.stem_graphic(fut[\"\\tSaldoGols\"], scale = 10) "
   ]
  },
  {
   "cell_type": "code",
   "execution_count": 216,
   "metadata": {},
   "outputs": [
    {
     "data": {
      "text/plain": [
       "(<Figure size 540x414 with 1 Axes>,\n",
       " <matplotlib.axes._axes.Axes at 0x1251e7198>)"
      ]
     },
     "execution_count": 216,
     "metadata": {},
     "output_type": "execute_result"
    },
    {
     "data": {
      "image/png": "[encoded data removed]",
      "text/plain": [
       "<Figure size 540x414 with 1 Axes>"
      ]
     },
     "metadata": {},
     "output_type": "display_data"
    }
   ],
   "source": [
    "stemgraphic.stem_graphic(fut[\"\\tGols\"], scale = 2) "
   ]
  },
  {
   "cell_type": "markdown",
   "metadata": {},
   "source": [
    "### Refazendo o box-plot simples do slide 23 com os dados do arquivo de pressão sistólica"
   ]
  },
  {
   "cell_type": "code",
   "execution_count": 219,
   "metadata": {},
   "outputs": [
    {
     "data": {
      "text/plain": [
       "{'whiskers': [<matplotlib.lines.Line2D at 0x1254f6eb8>,\n",
       "  <matplotlib.lines.Line2D at 0x1248292e8>],\n",
       " 'caps': [<matplotlib.lines.Line2D at 0x124829668>,\n",
       "  <matplotlib.lines.Line2D at 0x1248299e8>],\n",
       " 'boxes': [<matplotlib.lines.Line2D at 0x1254f6b00>],\n",
       " 'medians': [<matplotlib.lines.Line2D at 0x124829d68>],\n",
       " 'fliers': [<matplotlib.lines.Line2D at 0x12550c128>],\n",
       " 'means': []}"
      ]
     },
     "execution_count": 219,
     "metadata": {},
     "output_type": "execute_result"
    },
    {
     "data": {
      "image/png": "[encoded data removed]",
      "text/plain": [
       "<Figure size 432x288 with 1 Axes>"
      ]
     },
     "metadata": {},
     "output_type": "display_data"
    }
   ],
   "source": [
    "plt.boxplot(pressao[\"sbp\"])"
   ]
  },
  {
   "cell_type": "code",
   "execution_count": null,
   "metadata": {},
   "outputs": [],
   "source": []
  }
 ],
 "metadata": {
  "kernelspec": {
   "display_name": "Python 3",
   "language": "python",
   "name": "python3"
  },
  "language_info": {
   "codemirror_mode": {
    "name": "ipython",
    "version": 3
   },
   "file_extension": ".py",
   "mimetype": "text/x-python",
   "name": "python",
   "nbconvert_exporter": "python",
   "pygments_lexer": "ipython3",
   "version": "3.6.8"
  }
 },
 "nbformat": 4,
 "nbformat_minor": 2
}
